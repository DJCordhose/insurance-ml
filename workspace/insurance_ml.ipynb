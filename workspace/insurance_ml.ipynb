{
 "cells": [
  {
   "cell_type": "markdown",
   "metadata": {
    "id": "XdfXfXK2-CiG"
   },
   "source": [
    "# Insurance ML\n",
    "\n",
    "predict risk of accidents"
   ]
  },
  {
   "cell_type": "code",
   "execution_count": null,
   "metadata": {
    "colab": {
     "base_uri": "https://localhost:8080/",
     "height": 35
    },
    "id": "u8IonVMfAelY",
    "outputId": "a0b0d6be-ea8c-4330-b242-62076ce90c7b"
   },
   "outputs": [],
   "source": [
    "try:\n",
    "  # %tensorflow_version only exists in Colab.\n",
    "  %tensorflow_version 2.x\n",
    "except Exception:\n",
    "  pass\n",
    "\n",
    "import tensorflow as tf\n",
    "tf.__version__"
   ]
  },
  {
   "cell_type": "code",
   "execution_count": null,
   "metadata": {
    "id": "VEKCrPj196pg"
   },
   "outputs": [],
   "source": [
    "tf.random.set_seed(42)"
   ]
  },
  {
   "cell_type": "code",
   "execution_count": null,
   "metadata": {
    "colab": {
     "base_uri": "https://localhost:8080/",
     "height": 35
    },
    "id": "6Zr0x-nkr-bX",
    "outputId": "60f67b35-faf0-45ce-bad9-680aaacd86d4"
   },
   "outputs": [],
   "source": [
    "import numpy as np\n",
    "np.__version__"
   ]
  },
  {
   "cell_type": "code",
   "execution_count": null,
   "metadata": {
    "id": "j6tt1Z9cEV9m"
   },
   "outputs": [],
   "source": [
    "import matplotlib.pyplot as plt\n",
    "%matplotlib inline\n",
    "\n",
    "import matplotlib as mpl\n",
    "mpl.rcParams['figure.figsize'] = (20, 8)\n",
    "mpl.rcParams['axes.titlesize'] = 24\n",
    "mpl.rcParams['axes.labelsize'] = 20"
   ]
  },
  {
   "cell_type": "code",
   "execution_count": null,
   "metadata": {
    "colab": {
     "base_uri": "https://localhost:8080/"
    },
    "id": "-PtiO1ChnDKW",
    "outputId": "a3504ae9-3bc9-4c1e-cab0-e23ab103d46f"
   },
   "outputs": [],
   "source": [
    "# !pip install -q dtreeviz"
   ]
  },
  {
   "cell_type": "code",
   "execution_count": null,
   "metadata": {
    "colab": {
     "base_uri": "https://localhost:8080/",
     "height": 35
    },
    "id": "piNtm-kF7Gvo",
    "outputId": "fa955fce-98bf-49e4-c857-edd65940cd8f"
   },
   "outputs": [],
   "source": [
    "# https://github.com/parrt/dtreeviz\n",
    "import dtreeviz\n",
    "dtreeviz.__version__"
   ]
  },
  {
   "cell_type": "code",
   "execution_count": null,
   "metadata": {
    "colab": {
     "base_uri": "https://localhost:8080/"
    },
    "id": "uN0ZEjq0nhYh",
    "outputId": "469bb715-8b83-41ea-c547-21f80a005c30"
   },
   "outputs": [],
   "source": [
    "# https://github.com/AndreasMadsen/python-lrcurve\n",
    "# !pip install -q lrcurve"
   ]
  },
  {
   "cell_type": "code",
   "execution_count": null,
   "metadata": {
    "id": "aNsCjLV3nhro"
   },
   "outputs": [],
   "source": [
    "from lrcurve import KerasLearningCurve"
   ]
  },
  {
   "cell_type": "code",
   "execution_count": null,
   "metadata": {
    "id": "XSwwAyMDo1IA"
   },
   "outputs": [],
   "source": [
    "# XXX: THIS IS VERY GENERAL AND CAN BE USED PRETTY MUCH ANYWHERE\n",
    "\n",
    "from dtreeviz import clfviz\n",
    "\n",
    "def plot_decision_boundaries(model, X, y_true, x1_range=None, x2_range=None):\n",
    "  _, ax = plt.subplots(figsize=(8,4), dpi=300)\n",
    "\n",
    "\n",
    "  ranges = None\n",
    "  if x1_range and x2_range:\n",
    "    ranges=(x1_range, x2_range)\n",
    "\n",
    "  clfviz(\n",
    "              model, X, y_true, \n",
    "             show=['instances', 'boundaries', 'probabilities', 'misclassified'],\n",
    "             markers=['v', '^', 'd'],\n",
    "             ntiles=50, \n",
    "             ax=ax,\n",
    "            ranges=ranges,\n",
    "             tile_fraction=1.0, \n",
    "             boundary_markersize=1.0,\n",
    "             feature_names=[\"Age\", \"Max Speed\"],\n",
    "             colors={'class_boundary': 'black',\n",
    "                     'tile_alpha': 0.5,\n",
    "                    #  'warning' : 'yellow',\n",
    "                     'classes':\n",
    "                         [None,  # 0 classes\n",
    "                          None,  # 1 class\n",
    "                          None,  # 2 classes\n",
    "                          ['#FF8080', '#FFFF80', '#8080FF'],  # 3 classes\n",
    "                          ]\n",
    "                     }\n",
    "               )"
   ]
  },
  {
   "cell_type": "markdown",
   "metadata": {
    "id": "T9WX2UCljEqA"
   },
   "source": [
    "# Step 1: Loading and exploring our data set\n",
    "\n",
    "This is a database of customers of an insurance company. Each data point is one customer. Risk is expressed as a number between 0 and 1. 1 meaning highest and 0 meaning lowerst risk of having an accident."
   ]
  },
  {
   "cell_type": "code",
   "execution_count": null,
   "metadata": {
    "colab": {
     "base_uri": "https://localhost:8080/",
     "height": 204
    },
    "id": "AxOrlUw1g09i",
    "outputId": "666d8e6d-acd9-4afd-a415-d2220776a3a0"
   },
   "outputs": [],
   "source": [
    "# XXX: why would everyone need to know where the data is being loadded from and what if that changes? also: how to even do that?\n",
    "import pandas as pd\n",
    "\n",
    "df = pd.read_csv('https://raw.githubusercontent.com/DJCordhose/insurance-ml/main/data/insurance-customers-risk-1500.csv')"
   ]
  },
  {
   "cell_type": "code",
   "execution_count": null,
   "metadata": {},
   "outputs": [],
   "source": [
    "# XXX: Loading is mandatory, but why analysis of the data in a training notebook?\n",
    "df.head()"
   ]
  },
  {
   "cell_type": "code",
   "execution_count": null,
   "metadata": {
    "colab": {
     "base_uri": "https://localhost:8080/",
     "height": 297
    },
    "id": "pWXXoXWSicLU",
    "outputId": "1e1cc8cb-e991-470f-96fe-11de94575196"
   },
   "outputs": [],
   "source": [
    "df.describe()"
   ]
  },
  {
   "cell_type": "code",
   "execution_count": null,
   "metadata": {
    "id": "xtu7hbkJzMrk"
   },
   "outputs": [],
   "source": [
    "features = ['speed', 'age', 'miles']"
   ]
  },
  {
   "cell_type": "code",
   "execution_count": null,
   "metadata": {
    "id": "Vo3pOCMX5Ry7"
   },
   "outputs": [],
   "source": [
    "import seaborn as sns"
   ]
  },
  {
   "cell_type": "code",
   "execution_count": null,
   "metadata": {
    "colab": {
     "base_uri": "https://localhost:8080/",
     "height": 579
    },
    "id": "XkJ-7mfzmve2",
    "outputId": "c973b602-62b9-42c0-c682-405c35e6efcc"
   },
   "outputs": [],
   "source": [
    "# XXX: COLORS ARE WEIRD\n",
    "\n",
    "plt.figure(figsize=(10, 10))\n",
    "\n",
    "cm = df.corr()\n",
    "cm3 = cm.iloc[:3, :3]\n",
    "\n",
    "hm = sns.heatmap(cm3,\n",
    "                cbar=True,\n",
    "                annot=True,\n",
    "                square=True,\n",
    "#                 cmap='Blues', \n",
    "                fmt='.2f',\n",
    "                yticklabels=features,\n",
    "                xticklabels=features)"
   ]
  },
  {
   "cell_type": "markdown",
   "metadata": {
    "id": "gbK6f9MOagVd"
   },
   "source": [
    "# Step 2: Training a neural network on 2 dimensions of the data"
   ]
  },
  {
   "cell_type": "code",
   "execution_count": null,
   "metadata": {
    "colab": {
     "base_uri": "https://localhost:8080/"
    },
    "id": "szC_4uV0ikfF",
    "outputId": "b9ad6f50-2b86-4622-edfe-937d08ef1cba"
   },
   "outputs": [],
   "source": [
    "y = df['group'].values\n",
    "# add more columns to list to have fewer features to train on\n",
    "X = df.drop(['risk', 'group', 'miles'], axis='columns').values\n",
    "# reorder, first age, then speed to match plotting\n",
    "X = pd.DataFrame(np.array([X[:, 1], X[:, 0]]).T)\n",
    "X.shape, y.shape"
   ]
  },
  {
   "cell_type": "code",
   "execution_count": null,
   "metadata": {
    "colab": {
     "base_uri": "https://localhost:8080/"
    },
    "id": "dScO7iLBipd5",
    "outputId": "8f9cfd55-0244-4670-bcbd-9c6c42774d68"
   },
   "outputs": [],
   "source": [
    "from sklearn.model_selection import train_test_split\n",
    "X_train, X_val, y_train, y_val = train_test_split(X, y, test_size=0.2, random_state=21)\n",
    "X_train.shape, X_val.shape, y_train.shape, y_val.shape"
   ]
  },
  {
   "cell_type": "code",
   "execution_count": null,
   "metadata": {
    "colab": {
     "base_uri": "https://localhost:8080/"
    },
    "id": "aAdCvDPxj_9a",
    "outputId": "e7a05e5c-4531-4a1c-d53f-0b768bec3da2"
   },
   "outputs": [],
   "source": [
    "### XXX: THERE IS SO MUCH ROOM FOR EXPERIMENT AND MAKING COPIES HERE\n",
    "\n",
    "from tensorflow.keras.layers import InputLayer, Dense, Dropout, \\\n",
    "                                    BatchNormalization, Activation\n",
    "\n",
    "num_features = X.shape[1]\n",
    "dropout = 0.6\n",
    "model = tf.keras.Sequential()\n",
    "\n",
    "model.add(InputLayer(name='input', input_shape=(num_features,)))\n",
    "\n",
    "# model.add(Dense(500, name='hidden1'))\n",
    "# model.add(Activation('relu'))\n",
    "# model.add(BatchNormalization())\n",
    "# model.add(Dropout(dropout))\n",
    "\n",
    "# model.add(Dense(500, name='hidden2'))\n",
    "# model.add(Activation('relu'))\n",
    "# model.add(BatchNormalization())\n",
    "# model.add(Dropout(dropout))\n",
    "\n",
    "# model.add(Dense(500, name='hidden3'))\n",
    "# model.add(Activation('relu'))\n",
    "# model.add(BatchNormalization())\n",
    "# model.add(Dropout(dropout))\n",
    "\n",
    "model.add(Dense(name='output', units=3, activation='softmax'))\n",
    "\n",
    "model.summary()"
   ]
  },
  {
   "cell_type": "code",
   "execution_count": null,
   "metadata": {
    "colab": {
     "base_uri": "https://localhost:8080/",
     "height": 205
    },
    "id": "3uEpiUIKmYTl",
    "outputId": "6f993d11-2b66-4402-de13-381e3ec03e55"
   },
   "outputs": [],
   "source": [
    "%%time \n",
    "\n",
    "# XXX: this cries for a function with some parameters\n",
    "\n",
    "BATCH_SIZE = 32\n",
    "EPOCHS = 50\n",
    "\n",
    "model.compile(loss='sparse_categorical_crossentropy',\n",
    "             optimizer='adam',\n",
    "             metrics=['accuracy'])\n",
    "\n",
    "history = model.fit(X_train, y_train,\n",
    "                    validation_data=(X_val, y_val),\n",
    "                    epochs=EPOCHS, \n",
    "                    batch_size=BATCH_SIZE, \n",
    "                    callbacks=[KerasLearningCurve()],\n",
    "                    verbose=0)"
   ]
  },
  {
   "cell_type": "code",
   "execution_count": null,
   "metadata": {
    "colab": {
     "base_uri": "https://localhost:8080/"
    },
    "id": "Up4MylW3ohLy",
    "outputId": "a87c296a-9358-46bc-e4a1-fb05c589a5f6"
   },
   "outputs": [],
   "source": [
    "# XXX: getting final metrics is very common\n",
    "train_loss, train_metric = model.evaluate(X_train, y_train, batch_size=BATCH_SIZE)\n",
    "train_loss, train_metric"
   ]
  },
  {
   "cell_type": "code",
   "execution_count": null,
   "metadata": {
    "colab": {
     "base_uri": "https://localhost:8080/"
    },
    "id": "xDMEU0cuokhv",
    "outputId": "2ced619b-28a0-40ce-d1b2-e3f43e642736"
   },
   "outputs": [],
   "source": [
    "test_loss, test_metric = model.evaluate(X_val, y_val, batch_size=BATCH_SIZE)\n",
    "test_loss, test_metric"
   ]
  },
  {
   "cell_type": "code",
   "execution_count": null,
   "metadata": {
    "colab": {
     "base_uri": "https://localhost:8080/",
     "height": 531
    },
    "id": "AjfV7muM34wD",
    "outputId": "a79f2efd-55d2-4f30-aa6d-3ecf138ba29c"
   },
   "outputs": [],
   "source": [
    "# XXX: those plots are happning all the time\n",
    "plt.yscale('log')\n",
    "plt.ylabel(\"loss\")\n",
    "plt.xlabel(\"epochs\")\n",
    "plt.title('Loss over epochs')\n",
    "\n",
    "plt.plot(history.history['loss']);\n",
    "plt.plot(history.history['val_loss']);\n",
    "\n",
    "plt.legend(['Training', 'Validation']);"
   ]
  },
  {
   "cell_type": "code",
   "execution_count": null,
   "metadata": {
    "colab": {
     "base_uri": "https://localhost:8080/",
     "height": 548
    },
    "id": "UuG0d8KU3-l8",
    "outputId": "cdcdc98e-c0d7-4e8c-f7f1-715989a6e4ec"
   },
   "outputs": [],
   "source": [
    "plt.ylabel(\"accuracy\")\n",
    "plt.xlabel(\"epochs\")\n",
    "plt.title('Accuracy over epochs')\n",
    "\n",
    "plt.plot(history.history['accuracy'])\n",
    "plt.plot(history.history['val_accuracy'])"
   ]
  },
  {
   "cell_type": "code",
   "execution_count": null,
   "metadata": {
    "colab": {
     "base_uri": "https://localhost:8080/"
    },
    "id": "vqjnYlw_pGtI",
    "outputId": "0459b963-7208-4158-c70f-1a22b0e03825"
   },
   "outputs": [],
   "source": [
    "# XXX: those are plausibility checks and should be regression tests on quality of the model\n",
    "model.predict([[48, 100]])"
   ]
  },
  {
   "cell_type": "code",
   "execution_count": null,
   "metadata": {
    "colab": {
     "base_uri": "https://localhost:8080/"
    },
    "id": "m_4CYgS_SksG",
    "outputId": "33c532a7-5860-477d-a29c-c4c5ce4b32a9"
   },
   "outputs": [],
   "source": [
    "model.predict([[48, 100]]).argmax()"
   ]
  },
  {
   "cell_type": "code",
   "execution_count": null,
   "metadata": {
    "colab": {
     "base_uri": "https://localhost:8080/"
    },
    "id": "vI1Ojkys5GB2",
    "outputId": "e6e62a05-c23c-4f92-bf12-6222ad377d56"
   },
   "outputs": [],
   "source": [
    "model.predict([[30, 150]])"
   ]
  },
  {
   "cell_type": "code",
   "execution_count": null,
   "metadata": {
    "colab": {
     "base_uri": "https://localhost:8080/"
    },
    "id": "FLkkL9p1SnTe",
    "outputId": "5d2ece59-3f85-4cee-b1b2-c74674ce974e"
   },
   "outputs": [],
   "source": [
    "model.predict([[30, 150]]).argmax()"
   ]
  },
  {
   "cell_type": "code",
   "execution_count": null,
   "metadata": {
    "colab": {
     "base_uri": "https://localhost:8080/",
     "height": 973
    },
    "id": "_O001zKA1iO3",
    "outputId": "f6d2a52d-92d7-4e5a-ae26-84654ac976d1"
   },
   "outputs": [],
   "source": [
    "# XXX version without boundaries is straight forward, but one with ranges: which ranges make sense and why?\n",
    "# plot_decision_boundaries(model, X, y, x1_range=(10, 150), x2_range=(50, 250))\n",
    "plot_decision_boundaries(model, X, y)"
   ]
  },
  {
   "cell_type": "code",
   "execution_count": null,
   "metadata": {
    "id": "LcS4FP1S-6uq"
   },
   "outputs": [],
   "source": [
    "# model.save?"
   ]
  },
  {
   "cell_type": "code",
   "execution_count": null,
   "metadata": {
    "id": "B1DpFcG229IE"
   },
   "outputs": [],
   "source": [
    "# XXX: loading and saving of model are one-liners, but there are different formats and they are hard to remember\n",
    "model.save('classifier.h5', save_format='h5')"
   ]
  },
  {
   "cell_type": "code",
   "execution_count": null,
   "metadata": {
    "colab": {
     "base_uri": "https://localhost:8080/"
    },
    "id": "wAfcxZD0_HPS",
    "outputId": "d2b47144-bd01-478a-b367-9ea178f70f04"
   },
   "outputs": [],
   "source": [
    "model.save('classifier', save_format='tf')"
   ]
  },
  {
   "cell_type": "code",
   "execution_count": null,
   "metadata": {
    "colab": {
     "base_uri": "https://localhost:8080/"
    },
    "id": "OSlRM5YQ-5_j",
    "outputId": "e37fabc8-4e6d-48d6-d600-ed841a22cd17"
   },
   "outputs": [],
   "source": [
    "!ls -l"
   ]
  },
  {
   "cell_type": "code",
   "execution_count": null,
   "metadata": {
    "colab": {
     "base_uri": "https://localhost:8080/"
    },
    "id": "ki38mw0j--dp",
    "outputId": "7b2f47ab-f357-40da-95cf-a4bc313623cb"
   },
   "outputs": [],
   "source": [
    "!ls -l classifier/"
   ]
  },
  {
   "cell_type": "code",
   "execution_count": null,
   "metadata": {
    "colab": {
     "base_uri": "https://localhost:8080/"
    },
    "id": "eqyv9XJWHGAl",
    "outputId": "4d5d579b-2126-4b48-c034-a4fdf24147e9"
   },
   "outputs": [],
   "source": [
    "!tar czvf classifier.tgz ./classifier"
   ]
  },
  {
   "cell_type": "code",
   "execution_count": null,
   "metadata": {
    "colab": {
     "base_uri": "https://localhost:8080/"
    },
    "id": "gfB6XYPDHKIO",
    "outputId": "5c9c472f-4253-4663-9cd8-e05f467f1faa"
   },
   "outputs": [],
   "source": [
    "!ls -l"
   ]
  },
  {
   "cell_type": "code",
   "execution_count": null,
   "metadata": {
    "id": "tXXcJpbVHQYf"
   },
   "outputs": [],
   "source": []
  }
 ],
 "metadata": {
  "colab": {
   "collapsed_sections": [],
   "name": "1-mlops-train.ipynb",
   "provenance": []
  },
  "kernelspec": {
   "display_name": "Python 3 (ipykernel)",
   "language": "python",
   "name": "python3"
  },
  "language_info": {
   "codemirror_mode": {
    "name": "ipython",
    "version": 3
   },
   "file_extension": ".py",
   "mimetype": "text/x-python",
   "name": "python",
   "nbconvert_exporter": "python",
   "pygments_lexer": "ipython3",
   "version": "3.8.13"
  }
 },
 "nbformat": 4,
 "nbformat_minor": 1
}
