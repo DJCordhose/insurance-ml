{
 "cells": [
  {
   "cell_type": "markdown",
   "id": "ef85ae3a",
   "metadata": {},
   "source": [
    "# Sandbox\n",
    "\n",
    "Tools\n",
    "* https://evidentlyai.com/\n",
    "    * https://github.com/evidentlyai/evidently"
   ]
  },
  {
   "cell_type": "code",
   "execution_count": 1,
   "id": "320c010d",
   "metadata": {},
   "outputs": [
    {
     "ename": "ModuleNotFoundError",
     "evalue": "No module named 'evidently.dashboard.tabs'",
     "output_type": "error",
     "traceback": [
      "\u001b[1;31m---------------------------------------------------------------------------\u001b[0m",
      "\u001b[1;31mModuleNotFoundError\u001b[0m                       Traceback (most recent call last)",
      "\u001b[1;32m~\\AppData\\Local\\Temp\\ipykernel_11388\\915554838.py\u001b[0m in \u001b[0;36m<module>\u001b[1;34m\u001b[0m\n\u001b[0;32m      3\u001b[0m \u001b[1;33m\u001b[0m\u001b[0m\n\u001b[0;32m      4\u001b[0m \u001b[1;32mfrom\u001b[0m \u001b[0mevidently\u001b[0m\u001b[1;33m.\u001b[0m\u001b[0mdashboard\u001b[0m \u001b[1;32mimport\u001b[0m \u001b[0mDashboard\u001b[0m\u001b[1;33m\u001b[0m\u001b[1;33m\u001b[0m\u001b[0m\n\u001b[1;32m----> 5\u001b[1;33m from evidently.dashboard.tabs import (\n\u001b[0m\u001b[0;32m      6\u001b[0m     \u001b[0mDataDriftTab\u001b[0m\u001b[1;33m,\u001b[0m\u001b[1;33m\u001b[0m\u001b[1;33m\u001b[0m\u001b[0m\n\u001b[0;32m      7\u001b[0m     \u001b[0mCatTargetDriftTab\u001b[0m\u001b[1;33m\u001b[0m\u001b[1;33m\u001b[0m\u001b[0m\n",
      "\u001b[1;31mModuleNotFoundError\u001b[0m: No module named 'evidently.dashboard.tabs'"
     ]
    }
   ],
   "source": [
    "import pandas as pd\n",
    "from sklearn import datasets\n",
    "\n",
    "from evidently.dashboard import Dashboard\n",
    "from evidently.dashboard.tabs import (\n",
    "    DataDriftTab,\n",
    "    CatTargetDriftTab\n",
    ")\n",
    "\n",
    "iris = datasets.load_iris()\n",
    "iris_frame = pd.DataFrame(iris.data, columns = iris.feature_names)\n",
    "iris_frame['target'] = iris.target"
   ]
  },
  {
   "cell_type": "code",
   "execution_count": null,
   "id": "c6ebbc6c",
   "metadata": {},
   "outputs": [],
   "source": []
  }
 ],
 "metadata": {
  "kernelspec": {
   "display_name": "Python 3 (ipykernel)",
   "language": "python",
   "name": "python3"
  },
  "language_info": {
   "codemirror_mode": {
    "name": "ipython",
    "version": 3
   },
   "file_extension": ".py",
   "mimetype": "text/x-python",
   "name": "python",
   "nbconvert_exporter": "python",
   "pygments_lexer": "ipython3",
   "version": "3.7.12"
  }
 },
 "nbformat": 4,
 "nbformat_minor": 5
}
